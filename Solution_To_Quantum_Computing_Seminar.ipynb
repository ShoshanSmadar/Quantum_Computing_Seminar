{
  "nbformat": 4,
  "nbformat_minor": 0,
  "metadata": {
    "colab": {
      "provenance": [],
      "include_colab_link": true
    },
    "kernelspec": {
      "name": "python3",
      "display_name": "Python 3"
    },
    "language_info": {
      "name": "python"
    }
  },
  "cells": [
    {
      "cell_type": "markdown",
      "metadata": {
        "id": "view-in-github",
        "colab_type": "text"
      },
      "source": [
        "<a href=\"https://colab.research.google.com/github/ShoshanSmadar/Quantum_Computing_Seminar/blob/main/Copy_of_Quantum_Computing_Seminar.ipynb\" target=\"_parent\"><img src=\"https://colab.research.google.com/assets/colab-badge.svg\" alt=\"Open In Colab\"/></a>"
      ]
    },
    {
      "cell_type": "code",
      "execution_count": 1,
      "metadata": {
        "colab": {
          "base_uri": "https://localhost:8080/"
        },
        "id": "zHYafeuPsGsM",
        "outputId": "356d2b46-5982-492d-ae54-fa1290bd1d25"
      },
      "outputs": [
        {
          "output_type": "stream",
          "name": "stdout",
          "text": [
            "Collecting qiskit\n",
            "  Downloading qiskit-1.1.0-cp38-abi3-manylinux_2_17_x86_64.manylinux2014_x86_64.whl (4.3 MB)\n",
            "\u001b[2K     \u001b[90m━━━━━━━━━━━━━━━━━━━━━━━━━━━━━━━━━━━━━━━━\u001b[0m \u001b[32m4.3/4.3 MB\u001b[0m \u001b[31m25.5 MB/s\u001b[0m eta \u001b[36m0:00:00\u001b[0m\n",
            "\u001b[?25hCollecting rustworkx>=0.14.0 (from qiskit)\n",
            "  Downloading rustworkx-0.14.2-cp310-cp310-manylinux_2_17_x86_64.manylinux2014_x86_64.whl (2.1 MB)\n",
            "\u001b[2K     \u001b[90m━━━━━━━━━━━━━━━━━━━━━━━━━━━━━━━━━━━━━━━━\u001b[0m \u001b[32m2.1/2.1 MB\u001b[0m \u001b[31m45.0 MB/s\u001b[0m eta \u001b[36m0:00:00\u001b[0m\n",
            "\u001b[?25hRequirement already satisfied: numpy<3,>=1.17 in /usr/local/lib/python3.10/dist-packages (from qiskit) (1.25.2)\n",
            "Requirement already satisfied: scipy>=1.5 in /usr/local/lib/python3.10/dist-packages (from qiskit) (1.11.4)\n",
            "Requirement already satisfied: sympy>=1.3 in /usr/local/lib/python3.10/dist-packages (from qiskit) (1.12)\n",
            "Collecting dill>=0.3 (from qiskit)\n",
            "  Downloading dill-0.3.8-py3-none-any.whl (116 kB)\n",
            "\u001b[2K     \u001b[90m━━━━━━━━━━━━━━━━━━━━━━━━━━━━━━━━━━━━━━━━\u001b[0m \u001b[32m116.3/116.3 kB\u001b[0m \u001b[31m11.2 MB/s\u001b[0m eta \u001b[36m0:00:00\u001b[0m\n",
            "\u001b[?25hRequirement already satisfied: python-dateutil>=2.8.0 in /usr/local/lib/python3.10/dist-packages (from qiskit) (2.8.2)\n",
            "Collecting stevedore>=3.0.0 (from qiskit)\n",
            "  Downloading stevedore-5.2.0-py3-none-any.whl (49 kB)\n",
            "\u001b[2K     \u001b[90m━━━━━━━━━━━━━━━━━━━━━━━━━━━━━━━━━━━━━━━━\u001b[0m \u001b[32m49.7/49.7 kB\u001b[0m \u001b[31m4.7 MB/s\u001b[0m eta \u001b[36m0:00:00\u001b[0m\n",
            "\u001b[?25hRequirement already satisfied: typing-extensions in /usr/local/lib/python3.10/dist-packages (from qiskit) (4.11.0)\n",
            "Collecting symengine>=0.11 (from qiskit)\n",
            "  Downloading symengine-0.11.0-cp310-cp310-manylinux_2_12_x86_64.manylinux2010_x86_64.whl (39.4 MB)\n",
            "\u001b[2K     \u001b[90m━━━━━━━━━━━━━━━━━━━━━━━━━━━━━━━━━━━━━━━━\u001b[0m \u001b[32m39.4/39.4 MB\u001b[0m \u001b[31m14.7 MB/s\u001b[0m eta \u001b[36m0:00:00\u001b[0m\n",
            "\u001b[?25hRequirement already satisfied: six>=1.5 in /usr/local/lib/python3.10/dist-packages (from python-dateutil>=2.8.0->qiskit) (1.16.0)\n",
            "Collecting pbr!=2.1.0,>=2.0.0 (from stevedore>=3.0.0->qiskit)\n",
            "  Downloading pbr-6.0.0-py2.py3-none-any.whl (107 kB)\n",
            "\u001b[2K     \u001b[90m━━━━━━━━━━━━━━━━━━━━━━━━━━━━━━━━━━━━━━━━\u001b[0m \u001b[32m107.5/107.5 kB\u001b[0m \u001b[31m11.5 MB/s\u001b[0m eta \u001b[36m0:00:00\u001b[0m\n",
            "\u001b[?25hRequirement already satisfied: mpmath>=0.19 in /usr/local/lib/python3.10/dist-packages (from sympy>=1.3->qiskit) (1.3.0)\n",
            "Installing collected packages: symengine, rustworkx, pbr, dill, stevedore, qiskit\n",
            "Successfully installed dill-0.3.8 pbr-6.0.0 qiskit-1.1.0 rustworkx-0.14.2 stevedore-5.2.0 symengine-0.11.0\n"
          ]
        }
      ],
      "source": [
        "%pip install qiskit"
      ]
    },
    {
      "cell_type": "code",
      "source": [
        "from qiskit import QuantumCircuit\n",
        "from qiskit.quantum_info import Statevector\n",
        "import numpy as np"
      ],
      "metadata": {
        "id": "gpz3i4GMsKGf"
      },
      "execution_count": 2,
      "outputs": []
    },
    {
      "cell_type": "markdown",
      "source": [
        "# Example of creating a quantum circuit"
      ],
      "metadata": {
        "id": "HIU2jA06Tt-u"
      }
    },
    {
      "cell_type": "code",
      "source": [
        "circ = QuantumCircuit(2)\n",
        "circ.h(0)\n",
        "circ.cx(0,1)\n",
        "vector = Statevector.from_instruction(circ)"
      ],
      "metadata": {
        "id": "rfwFiXBmUg-Y"
      },
      "execution_count": 3,
      "outputs": []
    },
    {
      "cell_type": "code",
      "source": [
        "circ.draw()"
      ],
      "metadata": {
        "colab": {
          "base_uri": "https://localhost:8080/",
          "height": 94
        },
        "id": "HdO65S8gTzPc",
        "outputId": "78104f3b-598f-42ca-f64b-8e774e052f42"
      },
      "execution_count": 4,
      "outputs": [
        {
          "output_type": "execute_result",
          "data": {
            "text/plain": [
              "     ┌───┐     \n",
              "q_0: ┤ H ├──■──\n",
              "     └───┘┌─┴─┐\n",
              "q_1: ─────┤ X ├\n",
              "          └───┘"
            ],
            "text/html": [
              "<pre style=\"word-wrap: normal;white-space: pre;background: #fff0;line-height: 1.1;font-family: &quot;Courier New&quot;,Courier,monospace\">     ┌───┐     \n",
              "q_0: ┤ H ├──■──\n",
              "     └───┘┌─┴─┐\n",
              "q_1: ─────┤ X ├\n",
              "          └───┘</pre>"
            ]
          },
          "metadata": {},
          "execution_count": 4
        }
      ]
    },
    {
      "cell_type": "code",
      "source": [
        "vector.data"
      ],
      "metadata": {
        "colab": {
          "base_uri": "https://localhost:8080/"
        },
        "id": "zd01uBBHT0lc",
        "outputId": "ebe2b6b0-1f26-477c-8dca-86df0df57de1"
      },
      "execution_count": 5,
      "outputs": [
        {
          "output_type": "execute_result",
          "data": {
            "text/plain": [
              "array([0.70710678+0.j, 0.        +0.j, 0.        +0.j, 0.70710678+0.j])"
            ]
          },
          "metadata": {},
          "execution_count": 5
        }
      ]
    },
    {
      "cell_type": "code",
      "source": [
        "vector.to_dict()"
      ],
      "metadata": {
        "colab": {
          "base_uri": "https://localhost:8080/"
        },
        "id": "TTRRqeXPT5DW",
        "outputId": "9accb5de-98fa-4aef-9645-df1dddbd2425"
      },
      "execution_count": 6,
      "outputs": [
        {
          "output_type": "execute_result",
          "data": {
            "text/plain": [
              "{'00': (0.7071067811865475+0j), '11': (0.7071067811865475+0j)}"
            ]
          },
          "metadata": {},
          "execution_count": 6
        }
      ]
    },
    {
      "cell_type": "code",
      "source": [
        "vector.probabilities_dict()"
      ],
      "metadata": {
        "colab": {
          "base_uri": "https://localhost:8080/"
        },
        "id": "ZZjzjxisT6aa",
        "outputId": "fc000c25-c83c-4332-fc30-469f73e5f827"
      },
      "execution_count": 7,
      "outputs": [
        {
          "output_type": "execute_result",
          "data": {
            "text/plain": [
              "{'00': 0.4999999999999999, '11': 0.4999999999999999}"
            ]
          },
          "metadata": {},
          "execution_count": 7
        }
      ]
    },
    {
      "cell_type": "markdown",
      "source": [
        "# Goal - class work\n",
        "use a quantum circuit to prepare the state-vector $\\frac{1}{\\sqrt(2)}\\cdot(|000\\rangle+|111\\rangle)$"
      ],
      "metadata": {
        "id": "nLq5edIcnPeU"
      }
    },
    {
      "cell_type": "code",
      "source": [
        "def check_state1(statevector):\n",
        "    goal_vector = Statevector([1/np.sqrt(2),0.,0.,0.,0.,0.,0.,1./np.sqrt(2)])\n",
        "    return statevector.equiv(goal_vector)"
      ],
      "metadata": {
        "id": "7Yur0HqDnc7L"
      },
      "execution_count": 8,
      "outputs": []
    },
    {
      "cell_type": "code",
      "source": [
        "circ1 = QuantumCircuit(3)\n",
        "circ1.h(0)\n",
        "circ1.cx(0,1)\n",
        "circ1.cx(0,2)\n",
        "vector1 = Statevector.from_instruction(circ1)"
      ],
      "metadata": {
        "id": "cShN60fmol8A"
      },
      "execution_count": 9,
      "outputs": []
    },
    {
      "cell_type": "code",
      "source": [
        "check_state1(vector1)"
      ],
      "metadata": {
        "colab": {
          "base_uri": "https://localhost:8080/"
        },
        "id": "yWGldY5hr-m2",
        "outputId": "20e904d9-5671-40e6-bc1f-da584310e010"
      },
      "execution_count": 10,
      "outputs": [
        {
          "output_type": "execute_result",
          "data": {
            "text/plain": [
              "True"
            ]
          },
          "metadata": {},
          "execution_count": 10
        }
      ]
    },
    {
      "cell_type": "markdown",
      "source": [
        "# Goal - home work\n",
        "use a quantum circuit to prepare the state-vector $\\frac{1}{2}\\cdot(|0101\\rangle-|0110\\rangle-|1001\\rangle+|1010\\rangle)$"
      ],
      "metadata": {
        "id": "Ct-DGLm7T73-"
      }
    },
    {
      "cell_type": "markdown",
      "source": [
        "# use only X, H, Z, CX gates\n",
        "hint - you will need each one of them"
      ],
      "metadata": {
        "id": "IfLlIWlktexY"
      }
    },
    {
      "cell_type": "code",
      "source": [
        "def check_state2(statevector):\n",
        "    goal_vector = Statevector([ 0. +0.j,  0. +0.j,  0. +0.j,  0. +0.j,  0. +0.j,  0.5+0.j,\n",
        "             -0.5+0.j,  0. +0.j,  0. +0.j, -0.5+0.j,  0.5+0.j,  0. +0.j,\n",
        "              0. +0.j,  0. +0.j,  0. +0.j,  0. +0.j])\n",
        "    return statevector.equiv(goal_vector)"
      ],
      "metadata": {
        "id": "3bIjoNhYT-A8"
      },
      "execution_count": 11,
      "outputs": []
    },
    {
      "cell_type": "code",
      "source": [
        "circ2 = QuantumCircuit(4)\n",
        "circ2.h(3)\n",
        "circ2.h(0)\n",
        "circ2.cx(3,2)\n",
        "circ2.cx(0,1)\n",
        "circ2.z(1)\n",
        "circ2.x(1)\n",
        "circ2.z(2)\n",
        "circ2.x(2)\n",
        "vector2 = Statevector.from_instruction(circ2)"
      ],
      "metadata": {
        "id": "s7_ab4IXUA4S"
      },
      "execution_count": 13,
      "outputs": []
    },
    {
      "cell_type": "code",
      "source": [
        "check_state2(vector2)"
      ],
      "metadata": {
        "id": "4t-Ic9fh2l0r",
        "colab": {
          "base_uri": "https://localhost:8080/"
        },
        "outputId": "a2e82946-94f2-4e44-b9a6-838ffa51c284"
      },
      "execution_count": 14,
      "outputs": [
        {
          "output_type": "execute_result",
          "data": {
            "text/plain": [
              "True"
            ]
          },
          "metadata": {},
          "execution_count": 14
        }
      ]
    }
  ]
}
